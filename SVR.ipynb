{
  "cells": [
    {
      "cell_type": "code",
      "execution_count": null,
      "metadata": {
        "id": "f1YUKS-2Csu5"
      },
      "outputs": [],
      "source": [
        "# Importing libraries\n",
        "import pandas as pd\n",
        "import numpy as np\n",
        "import matplotlib.pyplot as plt\n",
        "from sklearn.preprocessing import StandardScaler\n",
        "from sklearn.svm import SVR\n",
        "from sklearn.metrics import mean_squared_error, r2_score, mean_absolute_error\n",
        "import yfinance as yf"
      ]
    },
    {
      "cell_type": "code",
      "execution_count": null,
      "metadata": {
        "colab": {
          "base_uri": "https://localhost:8080/"
        },
        "id": "O9CWKwzjDJWn",
        "outputId": "28dd6688-fce7-48c7-f990-78717a2e5bdd"
      },
      "outputs": [
        {
          "name": "stdout",
          "output_type": "stream",
          "text": [
            "\r[*********************100%***********************]  1 of 1 completed\n"
          ]
        }
      ],
      "source": [
        "df = yf.download('AAPL',period='20y')\n",
        "df=pd.DataFrame(df)"
      ]
    },
    {
      "cell_type": "code",
      "execution_count": null,
      "metadata": {
        "colab": {
          "base_uri": "https://localhost:8080/",
          "height": 237
        },
        "id": "T9cXFmPxzGV5",
        "outputId": "deae4911-01e7-40d1-9c30-f2d21ee8ea14"
      },
      "outputs": [
        {
          "data": {
            "text/html": [
              "\n",
              "  <div id=\"df-4d611319-746e-4fac-b4d7-bfa3ea696b7e\">\n",
              "    <div class=\"colab-df-container\">\n",
              "      <div>\n",
              "<style scoped>\n",
              "    .dataframe tbody tr th:only-of-type {\n",
              "        vertical-align: middle;\n",
              "    }\n",
              "\n",
              "    .dataframe tbody tr th {\n",
              "        vertical-align: top;\n",
              "    }\n",
              "\n",
              "    .dataframe thead th {\n",
              "        text-align: right;\n",
              "    }\n",
              "</style>\n",
              "<table border=\"1\" class=\"dataframe\">\n",
              "  <thead>\n",
              "    <tr style=\"text-align: right;\">\n",
              "      <th></th>\n",
              "      <th>Open</th>\n",
              "      <th>High</th>\n",
              "      <th>Low</th>\n",
              "      <th>Close</th>\n",
              "      <th>Adj Close</th>\n",
              "      <th>Volume</th>\n",
              "    </tr>\n",
              "    <tr>\n",
              "      <th>Date</th>\n",
              "      <th></th>\n",
              "      <th></th>\n",
              "      <th></th>\n",
              "      <th></th>\n",
              "      <th></th>\n",
              "      <th></th>\n",
              "    </tr>\n",
              "  </thead>\n",
              "  <tbody>\n",
              "    <tr>\n",
              "      <th>2003-05-02</th>\n",
              "      <td>0.258214</td>\n",
              "      <td>0.260536</td>\n",
              "      <td>0.256071</td>\n",
              "      <td>0.258036</td>\n",
              "      <td>0.219619</td>\n",
              "      <td>321182400</td>\n",
              "    </tr>\n",
              "    <tr>\n",
              "      <th>2003-05-05</th>\n",
              "      <td>0.263750</td>\n",
              "      <td>0.301429</td>\n",
              "      <td>0.263393</td>\n",
              "      <td>0.287321</td>\n",
              "      <td>0.244544</td>\n",
              "      <td>1555708000</td>\n",
              "    </tr>\n",
              "    <tr>\n",
              "      <th>2003-05-06</th>\n",
              "      <td>0.287857</td>\n",
              "      <td>0.319643</td>\n",
              "      <td>0.287500</td>\n",
              "      <td>0.312500</td>\n",
              "      <td>0.265974</td>\n",
              "      <td>1514492000</td>\n",
              "    </tr>\n",
              "    <tr>\n",
              "      <th>2003-05-07</th>\n",
              "      <td>0.309464</td>\n",
              "      <td>0.325714</td>\n",
              "      <td>0.305536</td>\n",
              "      <td>0.315179</td>\n",
              "      <td>0.268255</td>\n",
              "      <td>1054379200</td>\n",
              "    </tr>\n",
              "    <tr>\n",
              "      <th>2003-05-08</th>\n",
              "      <td>0.316071</td>\n",
              "      <td>0.322679</td>\n",
              "      <td>0.308750</td>\n",
              "      <td>0.321429</td>\n",
              "      <td>0.273574</td>\n",
              "      <td>687736000</td>\n",
              "    </tr>\n",
              "  </tbody>\n",
              "</table>\n",
              "</div>\n",
              "      <button class=\"colab-df-convert\" onclick=\"convertToInteractive('df-4d611319-746e-4fac-b4d7-bfa3ea696b7e')\"\n",
              "              title=\"Convert this dataframe to an interactive table.\"\n",
              "              style=\"display:none;\">\n",
              "        \n",
              "  <svg xmlns=\"http://www.w3.org/2000/svg\" height=\"24px\"viewBox=\"0 0 24 24\"\n",
              "       width=\"24px\">\n",
              "    <path d=\"M0 0h24v24H0V0z\" fill=\"none\"/>\n",
              "    <path d=\"M18.56 5.44l.94 2.06.94-2.06 2.06-.94-2.06-.94-.94-2.06-.94 2.06-2.06.94zm-11 1L8.5 8.5l.94-2.06 2.06-.94-2.06-.94L8.5 2.5l-.94 2.06-2.06.94zm10 10l.94 2.06.94-2.06 2.06-.94-2.06-.94-.94-2.06-.94 2.06-2.06.94z\"/><path d=\"M17.41 7.96l-1.37-1.37c-.4-.4-.92-.59-1.43-.59-.52 0-1.04.2-1.43.59L10.3 9.45l-7.72 7.72c-.78.78-.78 2.05 0 2.83L4 21.41c.39.39.9.59 1.41.59.51 0 1.02-.2 1.41-.59l7.78-7.78 2.81-2.81c.8-.78.8-2.07 0-2.86zM5.41 20L4 18.59l7.72-7.72 1.47 1.35L5.41 20z\"/>\n",
              "  </svg>\n",
              "      </button>\n",
              "      \n",
              "  <style>\n",
              "    .colab-df-container {\n",
              "      display:flex;\n",
              "      flex-wrap:wrap;\n",
              "      gap: 12px;\n",
              "    }\n",
              "\n",
              "    .colab-df-convert {\n",
              "      background-color: #E8F0FE;\n",
              "      border: none;\n",
              "      border-radius: 50%;\n",
              "      cursor: pointer;\n",
              "      display: none;\n",
              "      fill: #1967D2;\n",
              "      height: 32px;\n",
              "      padding: 0 0 0 0;\n",
              "      width: 32px;\n",
              "    }\n",
              "\n",
              "    .colab-df-convert:hover {\n",
              "      background-color: #E2EBFA;\n",
              "      box-shadow: 0px 1px 2px rgba(60, 64, 67, 0.3), 0px 1px 3px 1px rgba(60, 64, 67, 0.15);\n",
              "      fill: #174EA6;\n",
              "    }\n",
              "\n",
              "    [theme=dark] .colab-df-convert {\n",
              "      background-color: #3B4455;\n",
              "      fill: #D2E3FC;\n",
              "    }\n",
              "\n",
              "    [theme=dark] .colab-df-convert:hover {\n",
              "      background-color: #434B5C;\n",
              "      box-shadow: 0px 1px 3px 1px rgba(0, 0, 0, 0.15);\n",
              "      filter: drop-shadow(0px 1px 2px rgba(0, 0, 0, 0.3));\n",
              "      fill: #FFFFFF;\n",
              "    }\n",
              "  </style>\n",
              "\n",
              "      <script>\n",
              "        const buttonEl =\n",
              "          document.querySelector('#df-4d611319-746e-4fac-b4d7-bfa3ea696b7e button.colab-df-convert');\n",
              "        buttonEl.style.display =\n",
              "          google.colab.kernel.accessAllowed ? 'block' : 'none';\n",
              "\n",
              "        async function convertToInteractive(key) {\n",
              "          const element = document.querySelector('#df-4d611319-746e-4fac-b4d7-bfa3ea696b7e');\n",
              "          const dataTable =\n",
              "            await google.colab.kernel.invokeFunction('convertToInteractive',\n",
              "                                                     [key], {});\n",
              "          if (!dataTable) return;\n",
              "\n",
              "          const docLinkHtml = 'Like what you see? Visit the ' +\n",
              "            '<a target=\"_blank\" href=https://colab.research.google.com/notebooks/data_table.ipynb>data table notebook</a>'\n",
              "            + ' to learn more about interactive tables.';\n",
              "          element.innerHTML = '';\n",
              "          dataTable['output_type'] = 'display_data';\n",
              "          await google.colab.output.renderOutput(dataTable, element);\n",
              "          const docLink = document.createElement('div');\n",
              "          docLink.innerHTML = docLinkHtml;\n",
              "          element.appendChild(docLink);\n",
              "        }\n",
              "      </script>\n",
              "    </div>\n",
              "  </div>\n",
              "  "
            ],
            "text/plain": [
              "                Open      High       Low     Close  Adj Close      Volume\n",
              "Date                                                                     \n",
              "2003-05-02  0.258214  0.260536  0.256071  0.258036   0.219619   321182400\n",
              "2003-05-05  0.263750  0.301429  0.263393  0.287321   0.244544  1555708000\n",
              "2003-05-06  0.287857  0.319643  0.287500  0.312500   0.265974  1514492000\n",
              "2003-05-07  0.309464  0.325714  0.305536  0.315179   0.268255  1054379200\n",
              "2003-05-08  0.316071  0.322679  0.308750  0.321429   0.273574   687736000"
            ]
          },
          "execution_count": 3,
          "metadata": {},
          "output_type": "execute_result"
        }
      ],
      "source": [
        "df.head()"
      ]
    },
    {
      "cell_type": "code",
      "execution_count": null,
      "metadata": {
        "colab": {
          "base_uri": "https://localhost:8080/",
          "height": 300
        },
        "id": "VF712if4zJ6B",
        "outputId": "2bd401dd-021f-46e2-8056-673f8a9f1fa8"
      },
      "outputs": [
        {
          "data": {
            "text/html": [
              "\n",
              "  <div id=\"df-d4a3e519-431b-4244-a75b-125ae8c702c8\">\n",
              "    <div class=\"colab-df-container\">\n",
              "      <div>\n",
              "<style scoped>\n",
              "    .dataframe tbody tr th:only-of-type {\n",
              "        vertical-align: middle;\n",
              "    }\n",
              "\n",
              "    .dataframe tbody tr th {\n",
              "        vertical-align: top;\n",
              "    }\n",
              "\n",
              "    .dataframe thead th {\n",
              "        text-align: right;\n",
              "    }\n",
              "</style>\n",
              "<table border=\"1\" class=\"dataframe\">\n",
              "  <thead>\n",
              "    <tr style=\"text-align: right;\">\n",
              "      <th></th>\n",
              "      <th>Open</th>\n",
              "      <th>High</th>\n",
              "      <th>Low</th>\n",
              "      <th>Close</th>\n",
              "      <th>Adj Close</th>\n",
              "      <th>Volume</th>\n",
              "    </tr>\n",
              "  </thead>\n",
              "  <tbody>\n",
              "    <tr>\n",
              "      <th>count</th>\n",
              "      <td>5035.000000</td>\n",
              "      <td>5035.000000</td>\n",
              "      <td>5035.000000</td>\n",
              "      <td>5035.000000</td>\n",
              "      <td>5035.000000</td>\n",
              "      <td>5.035000e+03</td>\n",
              "    </tr>\n",
              "    <tr>\n",
              "      <th>mean</th>\n",
              "      <td>36.832776</td>\n",
              "      <td>37.250469</td>\n",
              "      <td>36.428571</td>\n",
              "      <td>36.857181</td>\n",
              "      <td>35.455090</td>\n",
              "      <td>4.148720e+08</td>\n",
              "    </tr>\n",
              "    <tr>\n",
              "      <th>std</th>\n",
              "      <td>46.839578</td>\n",
              "      <td>47.419660</td>\n",
              "      <td>46.299546</td>\n",
              "      <td>46.887572</td>\n",
              "      <td>46.866952</td>\n",
              "      <td>3.936886e+08</td>\n",
              "    </tr>\n",
              "    <tr>\n",
              "      <th>min</th>\n",
              "      <td>0.258214</td>\n",
              "      <td>0.260536</td>\n",
              "      <td>0.256071</td>\n",
              "      <td>0.258036</td>\n",
              "      <td>0.219619</td>\n",
              "      <td>1.363441e+07</td>\n",
              "    </tr>\n",
              "    <tr>\n",
              "      <th>25%</th>\n",
              "      <td>4.670179</td>\n",
              "      <td>4.750000</td>\n",
              "      <td>4.575000</td>\n",
              "      <td>4.675535</td>\n",
              "      <td>3.979434</td>\n",
              "      <td>1.243598e+08</td>\n",
              "    </tr>\n",
              "    <tr>\n",
              "      <th>50%</th>\n",
              "      <td>19.177500</td>\n",
              "      <td>19.314644</td>\n",
              "      <td>18.968214</td>\n",
              "      <td>19.141430</td>\n",
              "      <td>16.776699</td>\n",
              "      <td>2.837492e+08</td>\n",
              "    </tr>\n",
              "    <tr>\n",
              "      <th>75%</th>\n",
              "      <td>43.321251</td>\n",
              "      <td>43.700001</td>\n",
              "      <td>42.977501</td>\n",
              "      <td>43.276251</td>\n",
              "      <td>41.350868</td>\n",
              "      <td>5.805002e+08</td>\n",
              "    </tr>\n",
              "    <tr>\n",
              "      <th>max</th>\n",
              "      <td>182.630005</td>\n",
              "      <td>182.940002</td>\n",
              "      <td>179.119995</td>\n",
              "      <td>182.009995</td>\n",
              "      <td>180.683868</td>\n",
              "      <td>3.372970e+09</td>\n",
              "    </tr>\n",
              "  </tbody>\n",
              "</table>\n",
              "</div>\n",
              "      <button class=\"colab-df-convert\" onclick=\"convertToInteractive('df-d4a3e519-431b-4244-a75b-125ae8c702c8')\"\n",
              "              title=\"Convert this dataframe to an interactive table.\"\n",
              "              style=\"display:none;\">\n",
              "        \n",
              "  <svg xmlns=\"http://www.w3.org/2000/svg\" height=\"24px\"viewBox=\"0 0 24 24\"\n",
              "       width=\"24px\">\n",
              "    <path d=\"M0 0h24v24H0V0z\" fill=\"none\"/>\n",
              "    <path d=\"M18.56 5.44l.94 2.06.94-2.06 2.06-.94-2.06-.94-.94-2.06-.94 2.06-2.06.94zm-11 1L8.5 8.5l.94-2.06 2.06-.94-2.06-.94L8.5 2.5l-.94 2.06-2.06.94zm10 10l.94 2.06.94-2.06 2.06-.94-2.06-.94-.94-2.06-.94 2.06-2.06.94z\"/><path d=\"M17.41 7.96l-1.37-1.37c-.4-.4-.92-.59-1.43-.59-.52 0-1.04.2-1.43.59L10.3 9.45l-7.72 7.72c-.78.78-.78 2.05 0 2.83L4 21.41c.39.39.9.59 1.41.59.51 0 1.02-.2 1.41-.59l7.78-7.78 2.81-2.81c.8-.78.8-2.07 0-2.86zM5.41 20L4 18.59l7.72-7.72 1.47 1.35L5.41 20z\"/>\n",
              "  </svg>\n",
              "      </button>\n",
              "      \n",
              "  <style>\n",
              "    .colab-df-container {\n",
              "      display:flex;\n",
              "      flex-wrap:wrap;\n",
              "      gap: 12px;\n",
              "    }\n",
              "\n",
              "    .colab-df-convert {\n",
              "      background-color: #E8F0FE;\n",
              "      border: none;\n",
              "      border-radius: 50%;\n",
              "      cursor: pointer;\n",
              "      display: none;\n",
              "      fill: #1967D2;\n",
              "      height: 32px;\n",
              "      padding: 0 0 0 0;\n",
              "      width: 32px;\n",
              "    }\n",
              "\n",
              "    .colab-df-convert:hover {\n",
              "      background-color: #E2EBFA;\n",
              "      box-shadow: 0px 1px 2px rgba(60, 64, 67, 0.3), 0px 1px 3px 1px rgba(60, 64, 67, 0.15);\n",
              "      fill: #174EA6;\n",
              "    }\n",
              "\n",
              "    [theme=dark] .colab-df-convert {\n",
              "      background-color: #3B4455;\n",
              "      fill: #D2E3FC;\n",
              "    }\n",
              "\n",
              "    [theme=dark] .colab-df-convert:hover {\n",
              "      background-color: #434B5C;\n",
              "      box-shadow: 0px 1px 3px 1px rgba(0, 0, 0, 0.15);\n",
              "      filter: drop-shadow(0px 1px 2px rgba(0, 0, 0, 0.3));\n",
              "      fill: #FFFFFF;\n",
              "    }\n",
              "  </style>\n",
              "\n",
              "      <script>\n",
              "        const buttonEl =\n",
              "          document.querySelector('#df-d4a3e519-431b-4244-a75b-125ae8c702c8 button.colab-df-convert');\n",
              "        buttonEl.style.display =\n",
              "          google.colab.kernel.accessAllowed ? 'block' : 'none';\n",
              "\n",
              "        async function convertToInteractive(key) {\n",
              "          const element = document.querySelector('#df-d4a3e519-431b-4244-a75b-125ae8c702c8');\n",
              "          const dataTable =\n",
              "            await google.colab.kernel.invokeFunction('convertToInteractive',\n",
              "                                                     [key], {});\n",
              "          if (!dataTable) return;\n",
              "\n",
              "          const docLinkHtml = 'Like what you see? Visit the ' +\n",
              "            '<a target=\"_blank\" href=https://colab.research.google.com/notebooks/data_table.ipynb>data table notebook</a>'\n",
              "            + ' to learn more about interactive tables.';\n",
              "          element.innerHTML = '';\n",
              "          dataTable['output_type'] = 'display_data';\n",
              "          await google.colab.output.renderOutput(dataTable, element);\n",
              "          const docLink = document.createElement('div');\n",
              "          docLink.innerHTML = docLinkHtml;\n",
              "          element.appendChild(docLink);\n",
              "        }\n",
              "      </script>\n",
              "    </div>\n",
              "  </div>\n",
              "  "
            ],
            "text/plain": [
              "              Open         High          Low        Close    Adj Close  \\\n",
              "count  5035.000000  5035.000000  5035.000000  5035.000000  5035.000000   \n",
              "mean     36.832776    37.250469    36.428571    36.857181    35.455090   \n",
              "std      46.839578    47.419660    46.299546    46.887572    46.866952   \n",
              "min       0.258214     0.260536     0.256071     0.258036     0.219619   \n",
              "25%       4.670179     4.750000     4.575000     4.675535     3.979434   \n",
              "50%      19.177500    19.314644    18.968214    19.141430    16.776699   \n",
              "75%      43.321251    43.700001    42.977501    43.276251    41.350868   \n",
              "max     182.630005   182.940002   179.119995   182.009995   180.683868   \n",
              "\n",
              "             Volume  \n",
              "count  5.035000e+03  \n",
              "mean   4.148720e+08  \n",
              "std    3.936886e+08  \n",
              "min    1.363441e+07  \n",
              "25%    1.243598e+08  \n",
              "50%    2.837492e+08  \n",
              "75%    5.805002e+08  \n",
              "max    3.372970e+09  "
            ]
          },
          "execution_count": 4,
          "metadata": {},
          "output_type": "execute_result"
        }
      ],
      "source": [
        "df.describe()"
      ]
    },
    {
      "cell_type": "code",
      "execution_count": null,
      "metadata": {
        "colab": {
          "base_uri": "https://localhost:8080/",
          "height": 466
        },
        "id": "i-MLEuUw7Ofm",
        "outputId": "8a97af7a-6f12-4ce2-d463-4b296e7ccda6"
      },
      "outputs": [
        {
          "data": {
            "text/plain": [
              "Text(0, 0.5, 'Closing Price')"
            ]
          },
          "execution_count": 6,
          "metadata": {},
          "output_type": "execute_result"
        },
        {
          "data": {
            "image/png": "[encoded data removed]",
            "text/plain": [
              "<Figure size 640x480 with 1 Axes>"
            ]
          },
          "metadata": {},
          "output_type": "display_data"
        }
      ],
      "source": [
        "import matplotlib.dates as mdate\n",
        "plt.gca().xaxis.set_major_locator(mdate.DayLocator(interval=720))\n",
        "plt.plot(df.index,df['Adj Close'])\n",
        "plt.xlabel('Dates')\n",
        "plt.ylabel('Closing Price')"
      ]
    },
    {
      "cell_type": "code",
      "execution_count": null,
      "metadata": {
        "id": "-UxxHagFDUC8"
      },
      "outputs": [],
      "source": [
        "# Use today's  'Adj Close' as X and shift it to obtain tomorrow's 'Adj Close' as Y\n",
        "X = df['Adj Close'].values[:-1].reshape(-1, 1)\n",
        "Y = df['Adj Close'].values[1:].reshape(-1, 1)"
      ]
    },
    {
      "cell_type": "code",
      "execution_count": null,
      "metadata": {
        "id": "7NpqSVv0DWTO"
      },
      "outputs": [],
      "source": [
        "# Split the data into train and test sets using a rolling window\n",
        "window_size = 30\n",
        "num_samples = len(X) - window_size\n",
        "X_train, Y_train = X[:num_samples], Y[:num_samples]\n",
        "X_test, Y_test = X[num_samples:], Y[num_samples:]"
      ]
    },
    {
      "cell_type": "code",
      "execution_count": null,
      "metadata": {
        "id": "Rht2UCPGDZKk"
      },
      "outputs": [],
      "source": [
        "# Scale the data\n",
        "scaler = StandardScaler()\n",
        "X_train_scaled = scaler.fit_transform(X_train)\n",
        "Y_train_scaled = scaler.fit_transform(Y_train)\n",
        "X_test_scaled = scaler.transform(X_test)\n",
        "Y_test_scaled = scaler.transform(Y_test)"
      ]
    },
    {
      "cell_type": "code",
      "execution_count": null,
      "metadata": {
        "id": "N-J7fRz9DgP7"
      },
      "outputs": [],
      "source": [
        "# Fit the SVR model with RBF kernel\n",
        "svr = SVR(kernel='rbf', C=1e3, gamma=0.1)\n",
        "svr.fit(X_train_scaled, Y_train_scaled.ravel())\n",
        "\n",
        "# Predict on the test set\n",
        "Y_pred_scaled = svr.predict(X_test_scaled)\n",
        "\n",
        "Y_pred_scaled = Y_pred_scaled.reshape(-1,1)\n",
        "\n",
        "# Rescale the predicted values\n",
        "Y_pred = scaler.inverse_transform(Y_pred_scaled)\n",
        "Y_test = scaler.inverse_transform(Y_test_scaled)"
      ]
    },
    {
      "cell_type": "code",
      "execution_count": null,
      "metadata": {
        "colab": {
          "base_uri": "https://localhost:8080/"
        },
        "id": "DO-yLVtWDg87",
        "outputId": "71ed127f-e23c-433b-9757-c17473b6cee5"
      },
      "outputs": [
        {
          "name": "stdout",
          "output_type": "stream",
          "text": [
            "Mean squared error: 3.90\n",
            "Coefficient of determination: 0.67\n",
            "Mean absolute error: 1.51\n",
            "Root mean squared error: 1.98\n",
            "R2_score: 0.67\n"
          ]
        }
      ],
      "source": [
        "# Evaluate the model\n",
        "print('Mean squared error: %.2f'\n",
        "      % mean_squared_error(Y_test, Y_pred))\n",
        "print('Coefficient of determination: %.2f'\n",
        "      % r2_score(Y_test, Y_pred))\n",
        "print('Mean absolute error: %.2f'\n",
        "      % mean_absolute_error(Y_test, Y_pred))\n",
        "print('Root mean squared error: %.2f'\n",
        "      % np.sqrt(mean_squared_error(Y_test, Y_pred)))\n",
        "\n",
        "print(\"R2_score: %.2f\" %r2_score(Y_test, Y_pred))"
      ]
    },
    {
      "cell_type": "code",
      "execution_count": null,
      "metadata": {
        "colab": {
          "base_uri": "https://localhost:8080/",
          "height": 452
        },
        "id": "l9ip096DKrfM",
        "outputId": "e70c2677-b63d-48dd-f1f9-51aa8b157dd0"
      },
      "outputs": [
        {
          "data": {
            "image/png": "[encoded data removed]",
            "text/plain": [
              "<Figure size 640x480 with 1 Axes>"
            ]
          },
          "metadata": {},
          "output_type": "display_data"
        }
      ],
      "source": [
        "# Plot the data\n",
        "plt.scatter(X_test, Y_test, color='black')\n",
        "plt.plot(X_test, Y_pred, color='blue', linewidth=3)\n",
        "plt.legend(['Predicted', 'Real'])\n",
        "plt.title('SVR Model with RBF Kernel')\n",
        "plt.show()"
      ]
    }
  ],
  "metadata": {
    "colab": {
      "provenance": []
    },
    "kernelspec": {
      "display_name": "Python 3",
      "name": "python3"
    },
    "language_info": {
      "name": "python"
    }
  },
  "nbformat": 4,
  "nbformat_minor": 0
}
